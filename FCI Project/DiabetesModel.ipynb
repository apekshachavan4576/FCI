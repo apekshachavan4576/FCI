{
 "cells": [
  {
   "cell_type": "markdown",
   "metadata": {},
   "source": [
    "name: apeksha chavan\r\n",
    "UID: 2017130013\r\n",
    "BE COMPS\r\n",
    "FCI Project\r\n",
    "\r\n",
    "Diabetes is a disease that occurs when your blood glucose level, also called as blood sugar, is too high. \r\n",
    "Blood Sugar is your main source of energy and comes from the food you eat. Insulin, a hormone made by the pancreas, \r\n",
    "helps glucose from food get into your cells to be used for energy. Overtime, having too much glucose in your blood can cause health problems.\r\n",
    "\r\n",
    "Diabetes contribute to high blood pressure and is linked with high cholesterol which significantly increases the risk of heart attacks, \r\n",
    "strokes and other cardiovascular diseases. Diabetic Retinotherapy is caused by blood vessels in the back of the eye swelling and leaking leading\r\n",
    "to eye problems and blindness. The kidneys are another organ that is at particular risk of damage as a result of diabetes and the risk is again\r\n",
    "increased by poorly controlled diabetes, high blood pressure and high cholesterol. If diabetes has caused nerve damage, \r\n",
    "then this can lead to nausea, constipation or diorrhoea. Diabetes affect on the skin is usually a result of it's affect on the nerves\r\n",
    "and circulation which can lead to dry skin; slow healing of cuts, burns and wounds, \r\n",
    "fungal and bacterial infection and the loss of feeling in the foot. \r\n",
    "\r\n",
    "Due to increase in diabetes cases worldwide and due to the overgrowing negligence of people towards this issue,\r\n",
    "the medical industry is in need for predicting diabetes to control and create awareness among the patients to avoid fatal\r\n",
    "health issues or even death in the years to come. With a proper data set and a trained machine learning model, \r\n",
    "doctors can predict whether a person is likely to have diabetes or long in the long run which will help them to take proper preliminary\r\n",
    " actions to avoid the worst."
   ]
  },
  {
   "cell_type": "markdown",
   "metadata": {},
   "source": [
    "We’ll be using Python and some of its popular data science related packages. First of all, we will import pandas to read our data from a CSV file and manipulate it for further use. We will also use numpy to convert out data into a format suitable to feed our classification model. We’ll use seaborn and matplotlib for visualizations. We will then import Logistic Regression algorithm from sklearn. This algorithm will help us build our classification model. "
   ]
  },
  {
   "cell_type": "code",
   "execution_count": 407,
   "metadata": {},
   "outputs": [],
   "source": [
    "import warnings\r\n",
    "warnings.filterwarnings('ignore')\r\n",
    "\r\n",
    "import pandas as pd\r\n",
    "import numpy as np\r\n",
    "import seaborn as sns\r\n",
    "import matplotlib.pyplot as plt\r\n",
    "%matplotlib inline\r\n",
    "\r\n",
    "from sklearn.linear_model import LogisticRegression\r\n",
    "from sklearn.svm import SVC"
   ]
  },
  {
   "cell_type": "markdown",
   "metadata": {},
   "source": [
    "Attributes:\r\n",
    "\r\n",
    "Dataset information:\r\n",
    "\r\n",
    "This dataset is originally from the National Institute of Diabetes and Digestive and Kidney Diseases.\r\n",
    "Several constraints were placed on the selection of these instances from a larger database. \r\n",
    "In particular, all patients here are females at least 21 years old.\r\n",
    "\r\n",
    "Pregnancies: Number of times pregnant\r\n",
    "\r\n",
    "Glucose: The measurement of plasma glucose concentration for 2 hours in an oral glucose tolerance test.\r\n",
    "\r\n",
    "BloodPressure: Diastolic blood pressure (mm Hg)\r\n",
    "\r\n",
    "SkinThickness: Triceps skin fold thickness (mm)\r\n",
    "\r\n",
    "Insulin: 2-Hour serum insulin (mu U/ml)\r\n",
    "\r\n",
    "BMI: Body mass index (weight in kg/(height in m)^2)\r\n",
    "\r\n",
    "Obesity: Person is Obese or not (1: Overweight/obese 0: ideal weight)\r\n",
    "\r\n",
    "Age: Age (years)\r\n",
    "\r\n",
    "Outcome: Class variable (0 or 1)corr = data.corr()\r\n",
    "ax = sns.heatmap(\r\n",
    "    corr, \r\n",
    "    vmin=-1, vmax=1, center=0,\r\n",
    "    cmap=sns.diverging_palette(20, 220, n=200),\r\n",
    "    square=True\r\n",
    ")\r\n",
    "ax.set_xticklabels(\r\n",
    "    ax.get_xticklabels(),\r\n",
    "    rotation=45,\r\n",
    "    horizontalalignment='right'\r\n",
    ");"
   ]
  },
  {
   "cell_type": "markdown",
   "metadata": {},
   "source": [
    "Data Description\r\n",
    "We have our data saved in a CSV file called diabetes.csv. We first read our dataset into a pandas dataframe called diabetesDF, and then use the head() function to show the first five records from our dataset."
   ]
  },
  {
   "cell_type": "code",
   "execution_count": 408,
   "metadata": {
    "collapsed": false
   },
   "outputs": [
    {
     "data": {
      "text/html": [
       "<div>\n",
       "<style scoped>\n",
       "    .dataframe tbody tr th:only-of-type {\n",
       "        vertical-align: middle;\n",
       "    }\n",
       "\n",
       "    .dataframe tbody tr th {\n",
       "        vertical-align: top;\n",
       "    }\n",
       "\n",
       "    .dataframe thead th {\n",
       "        text-align: right;\n",
       "    }\n",
       "</style>\n",
       "<table border=\"1\" class=\"dataframe\">\n",
       "  <thead>\n",
       "    <tr style=\"text-align: right;\">\n",
       "      <th></th>\n",
       "      <th>Pregnancies</th>\n",
       "      <th>Glucose</th>\n",
       "      <th>BloodPressure</th>\n",
       "      <th>SkinThickness</th>\n",
       "      <th>Insulin</th>\n",
       "      <th>BMI</th>\n",
       "      <th>Obesity</th>\n",
       "      <th>Age</th>\n",
       "      <th>Outcome</th>\n",
       "    </tr>\n",
       "  </thead>\n",
       "  <tbody>\n",
       "    <tr>\n",
       "      <th>0</th>\n",
       "      <td>6</td>\n",
       "      <td>148</td>\n",
       "      <td>72</td>\n",
       "      <td>34</td>\n",
       "      <td>90</td>\n",
       "      <td>33.6</td>\n",
       "      <td>1</td>\n",
       "      <td>50</td>\n",
       "      <td>1</td>\n",
       "    </tr>\n",
       "    <tr>\n",
       "      <th>1</th>\n",
       "      <td>1</td>\n",
       "      <td>85</td>\n",
       "      <td>66</td>\n",
       "      <td>29</td>\n",
       "      <td>0</td>\n",
       "      <td>26.6</td>\n",
       "      <td>0</td>\n",
       "      <td>31</td>\n",
       "      <td>0</td>\n",
       "    </tr>\n",
       "    <tr>\n",
       "      <th>2</th>\n",
       "      <td>8</td>\n",
       "      <td>183</td>\n",
       "      <td>64</td>\n",
       "      <td>25</td>\n",
       "      <td>0</td>\n",
       "      <td>23.3</td>\n",
       "      <td>0</td>\n",
       "      <td>32</td>\n",
       "      <td>1</td>\n",
       "    </tr>\n",
       "    <tr>\n",
       "      <th>3</th>\n",
       "      <td>1</td>\n",
       "      <td>89</td>\n",
       "      <td>66</td>\n",
       "      <td>23</td>\n",
       "      <td>94</td>\n",
       "      <td>28.1</td>\n",
       "      <td>0</td>\n",
       "      <td>21</td>\n",
       "      <td>0</td>\n",
       "    </tr>\n",
       "    <tr>\n",
       "      <th>4</th>\n",
       "      <td>0</td>\n",
       "      <td>137</td>\n",
       "      <td>40</td>\n",
       "      <td>35</td>\n",
       "      <td>168</td>\n",
       "      <td>43.1</td>\n",
       "      <td>1</td>\n",
       "      <td>33</td>\n",
       "      <td>1</td>\n",
       "    </tr>\n",
       "  </tbody>\n",
       "</table>\n",
       "</div>"
      ],
      "text/plain": [
       "   Pregnancies  Glucose  BloodPressure  SkinThickness  Insulin   BMI  Obesity  \\\n",
       "0            6      148             72             34       90  33.6        1   \n",
       "1            1       85             66             29        0  26.6        0   \n",
       "2            8      183             64             25        0  23.3        0   \n",
       "3            1       89             66             23       94  28.1        0   \n",
       "4            0      137             40             35      168  43.1        1   \n",
       "\n",
       "   Age  Outcome  \n",
       "0   50        1  \n",
       "1   31        0  \n",
       "2   32        1  \n",
       "3   21        0  \n",
       "4   33        1  "
      ]
     },
     "execution_count": 408,
     "metadata": {},
     "output_type": "execute_result"
    }
   ],
   "source": [
    "diabetesDF = pd.read_csv('diabetes.csv')\r\n",
    "diabetesDF.head()"
   ]
  },
  {
   "cell_type": "markdown",
   "metadata": {},
   "source": [
    "Let’s also make sure that our data is clean (has no null values, etc).\r\n",
    "Note that the data does have some missing values (see Insulin = 0) in the samples in the previous figure. Ideally we could replace these 0 values with the mean value for that feature, but we’ll skip that for now."
   ]
  },
  {
   "cell_type": "code",
   "execution_count": 409,
   "metadata": {
    "collapsed": false
   },
   "outputs": [
    {
     "name": "stdout",
     "output_type": "stream",
     "text": [
      "<class 'pandas.core.frame.DataFrame'>\n",
      "RangeIndex: 768 entries, 0 to 767\n",
      "Data columns (total 9 columns):\n",
      " #   Column         Non-Null Count  Dtype  \n",
      "---  ------         --------------  -----  \n",
      " 0   Pregnancies    768 non-null    int64  \n",
      " 1   Glucose        768 non-null    int64  \n",
      " 2   BloodPressure  768 non-null    int64  \n",
      " 3   SkinThickness  768 non-null    int64  \n",
      " 4   Insulin        768 non-null    int64  \n",
      " 5   BMI            768 non-null    float64\n",
      " 6   Obesity        768 non-null    int64  \n",
      " 7   Age            768 non-null    int64  \n",
      " 8   Outcome        768 non-null    int64  \n",
      "dtypes: float64(1), int64(8)\n",
      "memory usage: 54.1 KB\n"
     ]
    }
   ],
   "source": [
    "diabetesDF.info()"
   ]
  },
  {
   "cell_type": "markdown",
   "metadata": {},
   "source": [
    "Data Exploration:\r\n",
    "\r\n",
    "\r\n",
    "\r\n",
    "\r\n",
    "Let us now explore our data set to get a feel of what it looks like and get some insights about it.\r\n",
    "Let’s start by finding correlation of every pair of features (and the outcome variable), and visualize the correlations using a heatmap.\r\n",
    "In the above heatmap, brighter colors indicate more correlation. As we can see from the table and the heatmap, glucose levels, age, BMI and number of pregnancies all have significant correlation with the outcome variable. Also notice the correlation between pairs of features, like age and pregnancies, or insulin and skin thickness."
   ]
  },
  {
   "cell_type": "code",
   "execution_count": 410,
   "metadata": {
    "collapsed": false
   },
   "outputs": [
    {
     "data": {
      "text/plain": [
       "<AxesSubplot:>"
      ]
     },
     "execution_count": 410,
     "metadata": {},
     "output_type": "execute_result"
    },
    {
     "data": {
      "image/png": "[encoded data removed]",
      "text/plain": [
       "<Figure size 432x288 with 2 Axes>"
      ]
     },
     "metadata": {
      "needs_background": "light"
     },
     "output_type": "display_data"
    }
   ],
   "source": [
    "sns.heatmap(corr, \r\n",
    "        xticklabels=corr.columns,\r\n",
    "        yticklabels=corr.columns)"
   ]
  },
  {
   "cell_type": "markdown",
   "metadata": {},
   "source": [
    "Creating independent features\r\n",
    "\r\n",
    "\r\n",
    "Next we will create our independent features from the new and changed dataset. "
   ]
  },
  {
   "cell_type": "code",
   "execution_count": 411,
   "metadata": {
    "collapsed": true
   },
   "outputs": [],
   "source": [
    "feature_columns = ['Pregnancies', 'Glucose', 'BloodPressure', 'SkinThickness', 'Insulin', 'BMI', 'Obesity', 'Age']\r\n",
    "predicted_class = ['Outcome']"
   ]
  },
  {
   "cell_type": "markdown",
   "metadata": {},
   "source": [
    "Splitting Data into training and test data:\r\n",
    "\r\n",
    "\r\n",
    "\r\n",
    "Next we will split the existing data into training and test data. We do this to train our machine learning model using the training data and test it's accuracy on the test data. We will be using train_test_split inbuilt function from scikit-learn for splitting the data array into two subsets. We use 80% of the split data as training data and 20% of it as test data."
   ]
  },
  {
   "cell_type": "code",
   "execution_count": 412,
   "metadata": {},
   "outputs": [],
   "source": [
    "X = diabetesDF[feature_columns].values\r\n",
    "Y = diabetesDF[predicted_class].values\r\n",
    "\r\n",
    "from sklearn.model_selection import train_test_split\r\n",
    "X_train, X_test, Y_train, Y_test= train_test_split(X,Y,test_size=0.20, random_state=1)"
   ]
  },
  {
   "cell_type": "markdown",
   "metadata": {},
   "source": [
    "If we carefully observe the data set, there are features with zero as their value. So in this scenario, the data is basically not captured since they are supposed to be having some value. In that case let us find out how many missing values are present with respect to all the features."
   ]
  },
  {
   "cell_type": "code",
   "execution_count": 441,
   "metadata": {},
   "outputs": [
    {
     "name": "stdout",
     "output_type": "stream",
     "text": [
      "Number of rows missing Pregnancies:111\n",
      "Number of rows missing Glucose:5\n",
      "Number of rows missing Blood Pressure:35\n",
      "Number of rows missing Skin Thickness:225\n",
      "Number of rows missing Insulin:373\n",
      "Number of rows missing BMI:11\n",
      "Number of rows missing Obesity:641\n",
      "Number of rows missing Age:0\n"
     ]
    }
   ],
   "source": [
    "print(\"Number of rows missing Pregnancies:{0}\".format(len(diabetesDF.loc[diabetesDF['Pregnancies']==0])))\r\n",
    "print(\"Number of rows missing Glucose:{0}\".format(len(diabetesDF.loc[diabetesDF['Glucose']==0])))\r\n",
    "print(\"Number of rows missing Blood Pressure:{0}\".format(len(diabetesDF.loc[diabetesDF['BloodPressure']==0])))\r\n",
    "print(\"Number of rows missing Skin Thickness:{0}\".format(len(diabetesDF.loc[diabetesDF['SkinThickness']==0])))\r\n",
    "print(\"Number of rows missing Insulin:{0}\".format(len(diabetesDF.loc[diabetesDF['Insulin']==0])))\r\n",
    "print(\"Number of rows missing BMI:{0}\".format(len(diabetesDF.loc[diabetesDF['BMI']==0])))\r\n",
    "print(\"Number of rows missing Obesity:{0}\".format(len(diabetesDF.loc[diabetesDF['Obesity']==0])))\r\n",
    "print(\"Number of rows missing Age:{0}\".format(len(diabetesDF.loc[diabetesDF['Age']==0])))"
   ]
  },
  {
   "cell_type": "markdown",
   "metadata": {},
   "source": [
    "Using Imputation function\r\n",
    "\r\n",
    "\r\n",
    "\r\n",
    "Next we have to apply an imputation function and the imputation function here works on the strategy of mean. First step\r\n",
    "\r\n",
    "is to import the Imputer from sklearn.preprocessing. \r\n",
    "\r\n",
    "In Imputer, wherever there are missing values as zero, we will apply the strategy of mean with respect to that particular feature to try and replace it."
   ]
  },
  {
   "cell_type": "code",
   "execution_count": 414,
   "metadata": {},
   "outputs": [],
   "source": [
    "#Imp = imputer(missing_values='NaN',strategy='median',axis=1)\r\n",
    "from sklearn.impute import SimpleImputer\r\n",
    "fill_values = SimpleImputer(missing_values=np.nan, strategy='mean')\r\n",
    "#new = imputer.fit_transform(diabetesDF.values.reshape(1,-1))"
   ]
  },
  {
   "cell_type": "markdown",
   "metadata": {},
   "source": [
    "Next we are going to fit and transform our X_train and  X_test."
   ]
  },
  {
   "cell_type": "code",
   "execution_count": 415,
   "metadata": {},
   "outputs": [],
   "source": [
    "X_train = fill_values.fit_transform(X_train)\r\n",
    "X_test = fill_values.fit_transform(X_test)"
   ]
  },
  {
   "cell_type": "markdown",
   "metadata": {},
   "source": [
    "Building and Training a Machine Learning Model\r\n",
    "\r\n",
    "\r\n",
    "\r\n",
    "Next we are going to build a machine learning model which is going to make our predictions after we train our model with the training data and test its accuracy with the test data. \r\n",
    "\r\n",
    "\r\n",
    "\r\n",
    "We will be using Random Forest Classifier. \r\n",
    "\r\n",
    "\r\n",
    "\r\n",
    "Random Forest Classifier creates a set of decision trees from randomly selected subset of training set. It then aggregates the votes from  different decision trees to decide the final class of the test object. First let us import it from sklearn.ensemble and then we will assign it to a variable called 'model'."
   ]
  },
  {
   "cell_type": "code",
   "execution_count": 416,
   "metadata": {},
   "outputs": [],
   "source": [
    "from sklearn.ensemble import RandomForestClassifier\r\n",
    "model=RandomForestClassifier(n_estimators=10, criterion='entropy', random_state=1)"
   ]
  },
  {
   "cell_type": "markdown",
   "metadata": {},
   "source": [
    "Next we will train this model using our training dataset. Training the model is very important as it will determine the outcome of it's prediction.We use the fit() function to fit in both X_train and Y_train."
   ]
  },
  {
   "cell_type": "code",
   "execution_count": 417,
   "metadata": {},
   "outputs": [
    {
     "data": {
      "text/plain": [
       "RandomForestClassifier(criterion='entropy', n_estimators=10, random_state=1)"
      ]
     },
     "execution_count": 417,
     "metadata": {},
     "output_type": "execute_result"
    }
   ],
   "source": [
    "model.fit(X_train,Y_train)"
   ]
  },
  {
   "cell_type": "markdown",
   "metadata": {},
   "source": [
    " Testing the accuracy of the Trained Model\r\n"
   ]
  },
  {
   "cell_type": "code",
   "execution_count": 418,
   "metadata": {},
   "outputs": [
    {
     "name": "stdout",
     "output_type": "stream",
     "text": [
      "accuracy of trained model =  98.0456026058632 %\n"
     ]
    }
   ],
   "source": [
    "#testing loaded model to make prediction\r\n",
    "model.fit(X_train,Y_train)\r\n",
    "model.score(X_train,Y_train)\r\n",
    "accuracyModel = model.score(X_train,Y_train)\r\n",
    "print(\"accuracy of trained model = \",accuracyModel * 100,\"%\")"
   ]
  },
  {
   "cell_type": "markdown",
   "metadata": {},
   "source": [
    " Testing the accuracy of the Machine Learning Model\r\n",
    "\r\n",
    "\r\n",
    "\r\n",
    "Since our model has been trained using the training data, we will now test the accuracy of the model on the test data. But firs let us fit our test data to our model."
   ]
  },
  {
   "cell_type": "code",
   "execution_count": 419,
   "metadata": {},
   "outputs": [
    {
     "name": "stdout",
     "output_type": "stream",
     "text": [
      "accuracy of tested model =  99.35064935064936 %\n"
     ]
    }
   ],
   "source": [
    "#testing loaded model to make prediction\r\n",
    "model.fit(X_test,Y_test)\r\n",
    "model.score(X_test,Y_test)\r\n",
    "accuracyModel = model.score(X_test,Y_test)\r\n",
    "print(\"accuracy of tested model = \",accuracyModel * 100,\"%\")\r\n"
   ]
  },
  {
   "cell_type": "markdown",
   "metadata": {},
   "source": [
    "Our model has got an accuracy of 99.35% i.e the model was successful in predicting whether the given person is likely to have diabetes or not. Our model has performed the best to our expectations. This model can be successfully used to make predictions on the data we provide to it.\r\n",
    "\r\n",
    "\r\n",
    "\r\n",
    "Let us use the predict() function to see the predictions it makes with the test data."
   ]
  },
  {
   "cell_type": "code",
   "execution_count": 420,
   "metadata": {
    "collapsed": true
   },
   "outputs": [
    {
     "data": {
      "text/plain": [
       "array([0, 0, 0, 0, 0, 0, 0, 0, 0, 0, 0, 0, 1, 1, 0, 1, 1, 0, 0, 0, 1, 1,\n",
       "       1, 1, 0, 0, 0, 1, 0, 1, 1, 0, 0, 1, 0, 1, 0, 0, 0, 0, 0, 0, 0, 1,\n",
       "       0, 0, 1, 1, 0, 0, 0, 0, 1, 0, 1, 0, 1, 0, 0, 0, 0, 0, 1, 0, 1, 0,\n",
       "       1, 1, 0, 1, 1, 0, 0, 0, 1, 1, 1, 0, 0, 1, 1, 0, 1, 1, 0, 0, 1, 0,\n",
       "       0, 0, 0, 0, 0, 0, 1, 0, 0, 0, 1, 0, 0, 0, 1, 0, 0, 0, 1, 0, 1, 0,\n",
       "       1, 0, 0, 0, 1, 0, 0, 1, 0, 1, 0, 1, 1, 0, 0, 0, 0, 1, 0, 0, 1, 0,\n",
       "       1, 0, 0, 0, 0, 0, 1, 0, 1, 0, 0, 1, 1, 1, 0, 0, 1, 0, 0, 1, 0, 0],\n",
       "      dtype=int64)"
      ]
     },
     "execution_count": 420,
     "metadata": {},
     "output_type": "execute_result"
    }
   ],
   "source": [
    "model.predict(X_test)"
   ]
  },
  {
   "cell_type": "markdown",
   "metadata": {},
   "source": [
    "Where 0 is the prediction that the person is likely to have diabetes and 1 is the prediction that the person is NOT likely to have diabetes."
   ]
  },
  {
   "cell_type": "markdown",
   "metadata": {},
   "source": [
    "Making Predictions\r\n",
    "\r\n",
    "\r\n",
    "\r\n",
    "Since we have an accuracy of 99.35% from our model, we will use it to make real life predictions providing some data of our own. We will use the predict() function again for our model to predict whether the person with this data is likely to have diabetes or not."
   ]
  },
  {
   "cell_type": "code",
   "execution_count": 451,
   "metadata": {
    "collapsed": false
   },
   "outputs": [
    {
     "name": "stdout",
     "output_type": "stream",
     "text": [
      "Person is likely to NOT have diabetes\n"
     ]
    }
   ],
   "source": [
    "x_demo=[[0,111,45,23,25,28,35,21]]\r\n",
    "if model.predict(x_demo)==0:\r\n",
    "    print(\"Person is likely to NOT have diabetes\")\r\n",
    "else:\r\n",
    "    print(\"Person is likely to have diabetes\")"
   ]
  },
  {
   "cell_type": "markdown",
   "metadata": {},
   "source": [
    "My model has successfully predicted that the person with the above data is likely to NOT have diabetes in the years to come.Now let us give some different data and see if how it predicts based on the new data given."
   ]
  },
  {
   "cell_type": "markdown",
   "metadata": {},
   "source": [
    "Let's test another case for a person being diabetic: as glucose level, age, pregnancies, & BMI are the major factors to determine diabetes we'll see major changes in these here."
   ]
  },
  {
   "cell_type": "code",
   "execution_count": 452,
   "metadata": {},
   "outputs": [
    {
     "name": "stdout",
     "output_type": "stream",
     "text": [
      "Person is likely to have diabetes\n"
     ]
    }
   ],
   "source": [
    "x_demo=[[5,210,81,60,129,35,66,50]]\r\n",
    "if model.predict(x_demo)==0:\r\n",
    "    print(\"Person is likely to NOT have diabetes\")\r\n",
    "else:\r\n",
    "    print(\"Person is likely to have diabetes\")"
   ]
  },
  {
   "cell_type": "markdown",
   "metadata": {},
   "source": [
    "My  model has successfully predicted that the person with the above data is likely to have diabetes so it is very important for that person to take good care about his health and take advise from his doctor on his future medications."
   ]
  },
  {
   "cell_type": "markdown",
   "metadata": {},
   "source": [
    "Conclusion:\r\n",
    "\r\n",
    "We can draw the following conclusions:-\r\n",
    "\r\n",
    "\r\n",
    "\r\n",
    "Glucose level, BMI, pregnancies and Age have significant influence on the model, specially glucose level and BMI. \r\n",
    "higher blood pressure is correlated with a person not being diabetic. \r\n",
    "\r\n",
    "Although age was more correlated than BMI to the output variables (as we saw during data exploration), the model relies more on BMI. \r\n",
    "\r\n",
    "The performance metrics used in the evaluation are:\r\n",
    "Accuracy Score: proportion of correct predictions out of the whole dataset. \r\n",
    "\r\n",
    "In this project, the Random Forest Classifer model has achieved a accuracy score of 99% in test data, \r\n",
    "i.e. out of all diabetic patients, 99% of them will be correctly classified using medical diagnostic measurements."
   ]
  }
 ],
 "metadata": {
  "anaconda-cloud": {},
  "interpreter": {
   "hash": "23300995598eec4bcf6bd89cf02d1c3675e8b2616661418dbbf5580aa901878d"
  },
  "kernelspec": {
   "display_name": "Python 3.9.0 64-bit",
   "name": "python3"
  },
  "language_info": {
   "codemirror_mode": {
    "name": "ipython",
    "version": 3
   },
   "file_extension": ".py",
   "mimetype": "text/x-python",
   "name": "python",
   "nbconvert_exporter": "python",
   "pygments_lexer": "ipython3",
   "version": "3.9.0"
  }
 },
 "nbformat": 4,
 "nbformat_minor": 1
}